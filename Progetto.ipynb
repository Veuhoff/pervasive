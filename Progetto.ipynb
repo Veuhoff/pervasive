{
 "cells": [
  {
   "cell_type": "code",
   "execution_count": null,
   "id": "55ff529d",
   "metadata": {
    "ExecuteTime": {
     "end_time": "2025-05-20T08:31:01.810576Z",
     "start_time": "2025-05-20T08:31:01.795139Z"
    }
   },
   "outputs": [],
   "source": [
    "#Import librerie\n",
    "\n",
    "import pandas as pd\n",
    "import json"
   ]
  },
  {
   "cell_type": "code",
   "execution_count": null,
   "id": "303e1ee5",
   "metadata": {
    "ExecuteTime": {
     "end_time": "2025-05-20T09:28:16.796270Z",
     "start_time": "2025-05-20T09:28:16.733635Z"
    }
   },
   "outputs": [],
   "source": [
    "#Lettura input\n",
    "\n",
    "input_folder = \"INPUT/\""
   ]
  },
  {
   "cell_type": "code",
   "execution_count": null,
   "id": "a8fdbe67",
   "metadata": {
    "ExecuteTime": {
     "end_time": "2025-05-20T09:28:22.657609Z",
     "start_time": "2025-05-20T09:28:17.850118Z"
    }
   },
   "outputs": [
    {
     "name": "stderr",
     "output_type": "stream",
     "text": [
      "C:\\Users\\brbrc\\AppData\\Local\\Temp\\ipykernel_11024\\2572896148.py:11: DtypeWarning: Columns (0) have mixed types. Specify dtype option on import or set low_memory=False.\n",
      "  df_nm = pd.read_csv(f\"{input_folder}Nottingham_originale.csv\", sep= ',')\n"
     ]
    }
   ],
   "source": [
    "#Aggiunta una colonna con il nome della città (city) e una con la disponibilità di posti (Availability)\n",
    "df_b = pd.read_csv(f\"{input_folder}Birmingham_originale.csv\", sep= ',')\n",
    "df_b['city'] = 'Birmingham'\n",
    "\n",
    "df_g = pd.read_csv(f\"{input_folder}Glasgow_originale.csv\", sep= ',')\n",
    "df_g['city'] = 'Glasgow'\n",
    "\n",
    "df_nk = pd.read_csv(f\"{input_folder}Norfolk_originale.csv\", sep= ',')\n",
    "df_nk['city'] = 'Norfolk'\n",
    "\n",
    "df_nm = pd.read_csv(f\"{input_folder}Nottingham_originale.csv\", sep= ',')\n",
    "df_nm['city'] = 'Nottingham'"
   ]
  },
  {
   "cell_type": "code",
   "execution_count": 32,
   "id": "74e46f7db0c76620",
   "metadata": {
    "ExecuteTime": {
     "end_time": "2025-05-20T09:28:28.221301Z",
     "start_time": "2025-05-20T09:28:28.069033Z"
    }
   },
   "outputs": [
    {
     "data": {
      "text/html": [
       "<div>\n",
       "<style scoped>\n",
       "    .dataframe tbody tr th:only-of-type {\n",
       "        vertical-align: middle;\n",
       "    }\n",
       "\n",
       "    .dataframe tbody tr th {\n",
       "        vertical-align: top;\n",
       "    }\n",
       "\n",
       "    .dataframe thead th {\n",
       "        text-align: right;\n",
       "    }\n",
       "</style>\n",
       "<table border=\"1\" class=\"dataframe\">\n",
       "  <thead>\n",
       "    <tr style=\"text-align: right;\">\n",
       "      <th></th>\n",
       "      <th>SystemCodeNumber</th>\n",
       "      <th>Capacity</th>\n",
       "      <th>Occupancy</th>\n",
       "      <th>LastUpdated</th>\n",
       "      <th>city</th>\n",
       "    </tr>\n",
       "  </thead>\n",
       "  <tbody>\n",
       "    <tr>\n",
       "      <th>0</th>\n",
       "      <td>Others-CCCPS8</td>\n",
       "      <td>1322</td>\n",
       "      <td>453</td>\n",
       "      <td>2016-10-05 07:57:17</td>\n",
       "      <td>Birmingham</td>\n",
       "    </tr>\n",
       "    <tr>\n",
       "      <th>1</th>\n",
       "      <td>Others-CCCPS8</td>\n",
       "      <td>1322</td>\n",
       "      <td>487</td>\n",
       "      <td>2016-10-05 08:30:15</td>\n",
       "      <td>Birmingham</td>\n",
       "    </tr>\n",
       "    <tr>\n",
       "      <th>2</th>\n",
       "      <td>Others-CCCPS8</td>\n",
       "      <td>1322</td>\n",
       "      <td>445</td>\n",
       "      <td>2016-10-04 07:59:42</td>\n",
       "      <td>Birmingham</td>\n",
       "    </tr>\n",
       "    <tr>\n",
       "      <th>3</th>\n",
       "      <td>Others-CCCPS8</td>\n",
       "      <td>1322</td>\n",
       "      <td>478</td>\n",
       "      <td>2016-10-04 08:25:42</td>\n",
       "      <td>Birmingham</td>\n",
       "    </tr>\n",
       "    <tr>\n",
       "      <th>4</th>\n",
       "      <td>Others-CCCPS8</td>\n",
       "      <td>1322</td>\n",
       "      <td>518</td>\n",
       "      <td>2016-10-04 08:59:42</td>\n",
       "      <td>Birmingham</td>\n",
       "    </tr>\n",
       "    <tr>\n",
       "      <th>...</th>\n",
       "      <td>...</td>\n",
       "      <td>...</td>\n",
       "      <td>...</td>\n",
       "      <td>...</td>\n",
       "      <td>...</td>\n",
       "    </tr>\n",
       "    <tr>\n",
       "      <th>102420</th>\n",
       "      <td>Others-CCCPS202</td>\n",
       "      <td>2937</td>\n",
       "      <td>1029</td>\n",
       "      <td>2017-04-28 12:58:56</td>\n",
       "      <td>Birmingham</td>\n",
       "    </tr>\n",
       "    <tr>\n",
       "      <th>102421</th>\n",
       "      <td>Others-CCCPS202</td>\n",
       "      <td>2937</td>\n",
       "      <td>1028</td>\n",
       "      <td>2017-04-28 13:31:56</td>\n",
       "      <td>Birmingham</td>\n",
       "    </tr>\n",
       "    <tr>\n",
       "      <th>102422</th>\n",
       "      <td>Others-CCCPS202</td>\n",
       "      <td>2937</td>\n",
       "      <td>1006</td>\n",
       "      <td>2017-04-28 14:05:56</td>\n",
       "      <td>Birmingham</td>\n",
       "    </tr>\n",
       "    <tr>\n",
       "      <th>102423</th>\n",
       "      <td>Others-CCCPS202</td>\n",
       "      <td>2937</td>\n",
       "      <td>991</td>\n",
       "      <td>2017-04-28 14:21:54</td>\n",
       "      <td>Birmingham</td>\n",
       "    </tr>\n",
       "    <tr>\n",
       "      <th>102424</th>\n",
       "      <td>Others-CCCPS202</td>\n",
       "      <td>2937</td>\n",
       "      <td>969</td>\n",
       "      <td>2017-04-28 14:54:55</td>\n",
       "      <td>Birmingham</td>\n",
       "    </tr>\n",
       "  </tbody>\n",
       "</table>\n",
       "<p>102425 rows × 5 columns</p>\n",
       "</div>"
      ],
      "text/plain": [
       "       SystemCodeNumber  Capacity  Occupancy          LastUpdated        city\n",
       "0         Others-CCCPS8      1322        453  2016-10-05 07:57:17  Birmingham\n",
       "1         Others-CCCPS8      1322        487  2016-10-05 08:30:15  Birmingham\n",
       "2         Others-CCCPS8      1322        445  2016-10-04 07:59:42  Birmingham\n",
       "3         Others-CCCPS8      1322        478  2016-10-04 08:25:42  Birmingham\n",
       "4         Others-CCCPS8      1322        518  2016-10-04 08:59:42  Birmingham\n",
       "...                 ...       ...        ...                  ...         ...\n",
       "102420  Others-CCCPS202      2937       1029  2017-04-28 12:58:56  Birmingham\n",
       "102421  Others-CCCPS202      2937       1028  2017-04-28 13:31:56  Birmingham\n",
       "102422  Others-CCCPS202      2937       1006  2017-04-28 14:05:56  Birmingham\n",
       "102423  Others-CCCPS202      2937        991  2017-04-28 14:21:54  Birmingham\n",
       "102424  Others-CCCPS202      2937        969  2017-04-28 14:54:55  Birmingham\n",
       "\n",
       "[102425 rows x 5 columns]"
      ]
     },
     "execution_count": 32,
     "metadata": {},
     "output_type": "execute_result"
    }
   ],
   "source": [
    "df_b"
   ]
  },
  {
   "cell_type": "code",
   "execution_count": 33,
   "id": "047cd633",
   "metadata": {},
   "outputs": [
    {
     "name": "stdout",
     "output_type": "stream",
     "text": [
      "object\n"
     ]
    }
   ],
   "source": [
    "print(df_b['SystemCodeNumber'].unique().dtype)"
   ]
  },
  {
   "cell_type": "code",
   "execution_count": null,
   "id": "fd7bc997138e733a",
   "metadata": {
    "ExecuteTime": {
     "end_time": "2025-05-20T09:28:31.905872Z",
     "start_time": "2025-05-20T09:28:31.658742Z"
    }
   },
   "outputs": [
    {
     "name": "stdout",
     "output_type": "stream",
     "text": [
      "Birmingham:  ['Others-CCCPS8' 'Others-CCCPS98' 'Shopping' 'BHMAPCARC01' 'BHMBCCMKT01'\n",
      " 'BHMBCCPST01' 'BHMBCCSNH01' 'BHMBCCTHL01' 'BHMBRCBRG01' 'BHMBRCBRG02'\n",
      " 'BHMBRCBRG03' 'BHMBRTARC01' 'BHMEURBRD01' 'BHMEURBRD02' 'BHMMBMMBX01'\n",
      " 'BHMNCPHST01' 'BHMNCPLDH01' 'BHMNCPNHS01' 'BHMNCPNST01' 'BHMNCPPLS01'\n",
      " 'BHMNCPRAN01' 'Broad Street' 'Bull Ring' 'NIA Car Parks' 'NIA North'\n",
      " 'NIA South' 'NIA West' 'Others-CCCPS105a' 'Others-CCCPS119a'\n",
      " 'Others-CCCPS133' 'Others-CCCPS135a' 'Others-CCCPS202'] \n",
      "Glasgow:  ['CPG25C' 'CPG24C' 'CPG21C' 'CPG07C' 'CPG06C' 'CPG05C' 'CPG04C' 'CPG03C'\n",
      " 'CPG02C' 'CPG01C' 'CPG11C'] \n",
      "Norfolk:  ['CPN0017' 'CPN0016' 'CPN0015' 'CPN0014' 'CPN0013' 'CPN0012' 'CPN0011'\n",
      " 'CPN0010' 'CPN0009' 'CPN0008' 'CPN0007' 'CPN0006' 'CPN0005' 'CPN0004'\n",
      " 'CPN0003' 'CPN0002' 'CPN0001' 'C06391'] \n",
      "Nottingham:  [210 211 212 911 '911' 'Am2-1' 'Am3-2' 'BRDMAR' 'BRDMSH' 'C11001' 'C11002'\n",
      " 'C11004' 'C11005' 'C11006' 'C12002' 'CPM_22' 'FRSTPR' 'LACEMK' 'PHNXPR'\n",
      " 'PRLMNT' 'QNSPR' 'RYLCT' 'SB1-1' 'TRINSQ' 'VICNTH' 'VICSTH' 'C11007']\n"
     ]
    }
   ],
   "source": [
    "#Estrazione valori unici\n",
    "\n",
    "Birmingham = df_b['SystemCodeNumber'].unique()\n",
    "Glasgow = df_g['SystemCodeNumber'].unique()\n",
    "Norfolk = df_nk['SystemCodeNumber'].unique()\n",
    "Nottingham = df_nm['SystemCodeNumber'].unique()\n",
    "print('Birmingham: ', Birmingham,\n",
    "      '\\nGlasgow: ', Glasgow,\n",
    "      '\\nNorfolk: ', Norfolk,\n",
    "      '\\nNottingham: ', Nottingham)\n"
   ]
  },
  {
   "cell_type": "code",
   "execution_count": null,
   "id": "af96a1e3",
   "metadata": {},
   "outputs": [],
   "source": [
    "#Conversione in stringhe tutti i nomi dei parcheggi\n",
    "df_b['SystemCodeNumber'] = df_b['SystemCodeNumber'].astype(str)\n",
    "df_g['SystemCodeNumber'] = df_g['SystemCodeNumber'].astype(str)\n",
    "df_nk['SystemCodeNumber'] = df_nk['SystemCodeNumber'].astype(str)\n",
    "df_nm['SystemCodeNumber'] = df_nm['SystemCodeNumber'].astype(str)"
   ]
  },
  {
   "cell_type": "code",
   "execution_count": 36,
   "id": "325e2cd8",
   "metadata": {},
   "outputs": [
    {
     "name": "stdout",
     "output_type": "stream",
     "text": [
      "['Others-CCCPS8' 'Others-CCCPS98' 'Shopping' 'BHMAPCARC01' 'BHMBCCMKT01'\n",
      " 'BHMBCCPST01' 'BHMBCCSNH01' 'BHMBCCTHL01' 'BHMBRCBRG01' 'BHMBRCBRG02'\n",
      " 'BHMBRCBRG03' 'BHMBRTARC01' 'BHMEURBRD01' 'BHMEURBRD02' 'BHMMBMMBX01'\n",
      " 'BHMNCPHST01' 'BHMNCPLDH01' 'BHMNCPNHS01' 'BHMNCPNST01' 'BHMNCPPLS01'\n",
      " 'BHMNCPRAN01' 'Broad Street' 'Bull Ring' 'NIA Car Parks' 'NIA North'\n",
      " 'NIA South' 'NIA West' 'Others-CCCPS105a' 'Others-CCCPS119a'\n",
      " 'Others-CCCPS133' 'Others-CCCPS135a' 'Others-CCCPS202']\n"
     ]
    }
   ],
   "source": [
    "print(df_b['SystemCodeNumber'].unique())"
   ]
  },
  {
   "cell_type": "code",
   "execution_count": null,
   "id": "9af5c253",
   "metadata": {
    "ExecuteTime": {
     "end_time": "2025-05-20T09:28:38.518101Z",
     "start_time": "2025-05-20T09:28:34.744902Z"
    }
   },
   "outputs": [],
   "source": [
    "# Ordina il DataFrame in base alla colonna 'LastUpdated' in ordine crescente\n",
    "\n",
    "df_b = df_b.sort_values(by= 'LastUpdated', ascending = True).reset_index(drop= True)\n",
    "df_g = df_g.sort_values(by= 'LastUpdated', ascending = True).reset_index(drop= True)\n",
    "df_nk = df_nk.sort_values(by= 'LastUpdated', ascending = True).reset_index(drop= True)\n",
    "df_nm = df_nm.sort_values(by= 'LastUpdated', ascending = True).reset_index(drop= True)"
   ]
  },
  {
   "cell_type": "code",
   "execution_count": null,
   "id": "bde8e0e1",
   "metadata": {},
   "outputs": [
    {
     "name": "stdout",
     "output_type": "stream",
     "text": [
      "Birmingham SystemCodeNumber    0\n",
      "Capacity            0\n",
      "Occupancy           0\n",
      "LastUpdated         0\n",
      "city                0\n",
      "dtype: int64\n",
      "Glasgow SystemCodeNumber    0\n",
      "Capacity            0\n",
      "Occupancy           0\n",
      "LastUpdated         0\n",
      "city                0\n",
      "dtype: int64\n",
      "Norfolk SystemCodeNumber    0\n",
      "Capacity            0\n",
      "Occupancy           0\n",
      "LastUpdated         0\n",
      "city                0\n",
      "dtype: int64\n",
      "Nottingham SystemCodeNumber    0\n",
      "Capacity            0\n",
      "Occupancy           0\n",
      "LastUpdated         0\n",
      "city                0\n",
      "dtype: int64\n"
     ]
    }
   ],
   "source": [
    "#Verifica eventuale presenza di valori NaN nel dataFrame\n",
    "print('Birmingham', df_b.isna().sum())\n",
    "print('Glasgow', df_g.isna().sum())\n",
    "print('Norfolk', df_b.isna().sum())\n",
    "print('Nottingham', df_b.isna().sum())"
   ]
  },
  {
   "cell_type": "code",
   "execution_count": null,
   "id": "7d449102",
   "metadata": {},
   "outputs": [
    {
     "name": "stdout",
     "output_type": "stream",
     "text": [
      "Birmingham SystemCodeNumber    0\n",
      "Capacity            0\n",
      "Occupancy           0\n",
      "LastUpdated         0\n",
      "city                0\n",
      "dtype: int64\n",
      "Glasgow SystemCodeNumber    0\n",
      "Capacity            0\n",
      "Occupancy           0\n",
      "LastUpdated         0\n",
      "city                0\n",
      "dtype: int64\n",
      "Norfolk SystemCodeNumber    0\n",
      "Capacity            0\n",
      "Occupancy           0\n",
      "LastUpdated         0\n",
      "city                0\n",
      "dtype: int64\n",
      "Nottingham SystemCodeNumber    0\n",
      "Capacity            0\n",
      "Occupancy           0\n",
      "LastUpdated         0\n",
      "city                0\n",
      "dtype: int64\n"
     ]
    }
   ],
   "source": [
    "#verifica di eventuali valori di capacity negativi\n",
    "print('Birmingham', df_b.loc[df_b['Capacity']<0].count())\n",
    "print('Glasgow', df_g.loc[df_g['Capacity']<0].count())\n",
    "print('Norfolk', df_nk.loc[df_nk['Capacity']<0].count())\n",
    "print('Nottingham', df_nm.loc[df_nm['Capacity']<0].count())"
   ]
  },
  {
   "cell_type": "code",
   "execution_count": null,
   "id": "7e29a844",
   "metadata": {},
   "outputs": [
    {
     "name": "stdout",
     "output_type": "stream",
     "text": [
      "Birmingham SystemCodeNumber    387\n",
      "Capacity            387\n",
      "Occupancy           387\n",
      "LastUpdated         387\n",
      "city                387\n",
      "dtype: int64\n",
      "Glasgow SystemCodeNumber    585\n",
      "Capacity            585\n",
      "Occupancy           585\n",
      "LastUpdated         585\n",
      "city                585\n",
      "dtype: int64\n",
      "Norfolk SystemCodeNumber    0\n",
      "Capacity            0\n",
      "Occupancy           0\n",
      "LastUpdated         0\n",
      "city                0\n",
      "dtype: int64\n",
      "Nottingham SystemCodeNumber    0\n",
      "Capacity            0\n",
      "Occupancy           0\n",
      "LastUpdated         0\n",
      "city                0\n",
      "dtype: int64\n"
     ]
    }
   ],
   "source": [
    "#Verifica di eventuali valori di Occupancy negativi\n",
    "print('Birmingham', df_b.loc[df_b['Occupancy']<0].count())\n",
    "print('Glasgow', df_g.loc[df_g['Occupancy']<0].count())\n",
    "print('Norfolk', df_nk.loc[df_nk['Occupancy']<0].count())\n",
    "print('Nottingham', df_nm.loc[df_nm['Occupancy']<0].count())"
   ]
  },
  {
   "cell_type": "code",
   "execution_count": null,
   "id": "b27117a8",
   "metadata": {},
   "outputs": [],
   "source": [
    "# Filtra il DataFrame mantenendo solo le righe in cui il valore della colonna 'Occupancy' è maggiore o uguale a zero.\n",
    "\n",
    "df_b = df_b[df_b['Occupancy'] >= 0]\n",
    "df_g = df_g.loc[df_g['Occupancy']>=0]"
   ]
  },
  {
   "cell_type": "code",
   "execution_count": null,
   "id": "2a5824b6",
   "metadata": {},
   "outputs": [
    {
     "name": "stdout",
     "output_type": "stream",
     "text": [
      "Birmingham SystemCodeNumber    877\n",
      "Capacity            877\n",
      "Occupancy           877\n",
      "LastUpdated         877\n",
      "city                877\n",
      "dtype: int64\n",
      "Glasgow SystemCodeNumber    923\n",
      "Capacity            923\n",
      "Occupancy           923\n",
      "LastUpdated         923\n",
      "city                923\n",
      "dtype: int64\n",
      "Norfolk SystemCodeNumber    0\n",
      "Capacity            0\n",
      "Occupancy           0\n",
      "LastUpdated         0\n",
      "city                0\n",
      "dtype: int64\n",
      "Nottingham SystemCodeNumber    27659\n",
      "Capacity            27659\n",
      "Occupancy           27659\n",
      "LastUpdated         27659\n",
      "city                27659\n",
      "dtype: int64\n"
     ]
    }
   ],
   "source": [
    "#Verifica se la capacità è sempre maggiore dell'occupazione\n",
    "print('Birmingham', df_b.loc[df_b['Capacity']< df_b['Occupancy']].count())\n",
    "print('Glasgow', df_g.loc[df_g['Capacity']< df_g['Occupancy']].count())\n",
    "print('Norfolk', df_nk.loc[df_nk['Capacity']< df_nk['Occupancy']].count())\n",
    "print('Nottingham', df_nm.loc[df_nm['Capacity']< df_nm['Occupancy']].count())"
   ]
  },
  {
   "cell_type": "code",
   "execution_count": null,
   "id": "dfcc1db2",
   "metadata": {},
   "outputs": [],
   "source": [
    "# Filtra il DataFrame mantenendo solo le righe in cui la capacità del parcheggio è maggiore o uguale all'occupazione\n",
    "\n",
    "df_b = df_b.loc[df_b['Capacity']>= df_b['Occupancy']]\n",
    "df_g = df_g.loc[df_g['Capacity']>= df_g['Occupancy']]\n",
    "df_nm = df_nm.loc[df_nm['Capacity']>= df_nm['Occupancy']]"
   ]
  },
  {
   "cell_type": "code",
   "execution_count": null,
   "id": "f3f3a16c",
   "metadata": {},
   "outputs": [
    {
     "name": "stdout",
     "output_type": "stream",
     "text": [
      "Birmingham SystemCodeNumber    0\n",
      "Capacity            0\n",
      "Occupancy           0\n",
      "LastUpdated         0\n",
      "city                0\n",
      "dtype: int64\n",
      "Glasgow SystemCodeNumber    0\n",
      "Capacity            0\n",
      "Occupancy           0\n",
      "LastUpdated         0\n",
      "city                0\n",
      "dtype: int64\n",
      "Norfolk SystemCodeNumber    0\n",
      "Capacity            0\n",
      "Occupancy           0\n",
      "LastUpdated         0\n",
      "city                0\n",
      "dtype: int64\n",
      "Nottingham SystemCodeNumber    0\n",
      "Capacity            0\n",
      "Occupancy           0\n",
      "LastUpdated         0\n",
      "city                0\n",
      "dtype: int64\n"
     ]
    }
   ],
   "source": [
    "#Verifica se sono state apportate le correzioni\n",
    "print('Birmingham', df_b.loc[df_b['Capacity']< df_b['Occupancy']].count())\n",
    "print('Glasgow', df_g.loc[df_g['Capacity']< df_g['Occupancy']].count())\n",
    "print('Norfolk', df_nk.loc[df_nk['Capacity']< df_nk['Occupancy']].count())\n",
    "print('Nottingham', df_nm.loc[df_nm['Capacity']< df_nm['Occupancy']].count())"
   ]
  },
  {
   "cell_type": "code",
   "execution_count": null,
   "id": "30f91fc8",
   "metadata": {},
   "outputs": [],
   "source": [
    "#Calcolo dei posti disponibili nel parcheggio \n",
    "df_b['Availability'] = df_b['Capacity'] - df_b['Occupancy']\n",
    "df_g['Availability'] = df_g['Capacity'] - df_g['Occupancy']\n",
    "df_nk['Availability'] = df_nk['Capacity'] - df_nk['Occupancy']\n",
    "df_nm['Availability'] = df_nm['Capacity'] - df_nm['Occupancy']"
   ]
  },
  {
   "cell_type": "code",
   "execution_count": null,
   "id": "fae519d1",
   "metadata": {},
   "outputs": [
    {
     "name": "stdout",
     "output_type": "stream",
     "text": [
      "Birmingham SystemCodeNumber    0\n",
      "Capacity            0\n",
      "Occupancy           0\n",
      "LastUpdated         0\n",
      "city                0\n",
      "Availability        0\n",
      "dtype: int64\n",
      "Glasgow SystemCodeNumber    0\n",
      "Capacity            0\n",
      "Occupancy           0\n",
      "LastUpdated         0\n",
      "city                0\n",
      "Availability        0\n",
      "dtype: int64\n",
      "Norfolk SystemCodeNumber    0\n",
      "Capacity            0\n",
      "Occupancy           0\n",
      "LastUpdated         0\n",
      "city                0\n",
      "Availability        0\n",
      "dtype: int64\n",
      "Nottingham SystemCodeNumber    0\n",
      "Capacity            0\n",
      "Occupancy           0\n",
      "LastUpdated         0\n",
      "city                0\n",
      "Availability        0\n",
      "dtype: int64\n"
     ]
    }
   ],
   "source": [
    "#Verifica se Availability è negativo\n",
    "print('Birmingham', df_b.loc[df_b['Availability']<0].count())\n",
    "print('Glasgow', df_g.loc[df_g['Availability']<0].count())\n",
    "print('Norfolk', df_nk.loc[df_nk['Availability']<0].count())\n",
    "print('Nottingham', df_nm.loc[df_nm['Availability']<0].count())"
   ]
  },
  {
   "cell_type": "code",
   "execution_count": null,
   "id": "77850b6e",
   "metadata": {},
   "outputs": [],
   "source": [
    "#Converte i valori della colonna 'LastUpdated' del DataFrame in oggetti datetime di pandas.\n",
    "\n",
    "df_b['LastUpdated']= pd.to_datetime(df_b['LastUpdated'],errors='coerce')\n",
    "df_g['LastUpdated']= pd.to_datetime(df_g['LastUpdated'],errors='coerce')\n",
    "df_nk['LastUpdated']= pd.to_datetime(df_nk['LastUpdated'],errors='coerce')\n",
    "df_nm['LastUpdated']= pd.to_datetime(df_nm['LastUpdated'],errors='coerce')"
   ]
  },
  {
   "cell_type": "code",
   "execution_count": 48,
   "id": "7819958d",
   "metadata": {},
   "outputs": [
    {
     "data": {
      "text/html": [
       "<div>\n",
       "<style scoped>\n",
       "    .dataframe tbody tr th:only-of-type {\n",
       "        vertical-align: middle;\n",
       "    }\n",
       "\n",
       "    .dataframe tbody tr th {\n",
       "        vertical-align: top;\n",
       "    }\n",
       "\n",
       "    .dataframe thead th {\n",
       "        text-align: right;\n",
       "    }\n",
       "</style>\n",
       "<table border=\"1\" class=\"dataframe\">\n",
       "  <thead>\n",
       "    <tr style=\"text-align: right;\">\n",
       "      <th></th>\n",
       "      <th>SystemCodeNumber</th>\n",
       "      <th>Capacity</th>\n",
       "      <th>Occupancy</th>\n",
       "      <th>LastUpdated</th>\n",
       "      <th>city</th>\n",
       "      <th>Availability</th>\n",
       "    </tr>\n",
       "  </thead>\n",
       "  <tbody>\n",
       "    <tr>\n",
       "      <th>0</th>\n",
       "      <td>BHMNCPPLS01</td>\n",
       "      <td>450</td>\n",
       "      <td>76</td>\n",
       "      <td>2016-10-04 07:46:28</td>\n",
       "      <td>Birmingham</td>\n",
       "      <td>374</td>\n",
       "    </tr>\n",
       "    <tr>\n",
       "      <th>1</th>\n",
       "      <td>BHMNCPNHS01</td>\n",
       "      <td>500</td>\n",
       "      <td>80</td>\n",
       "      <td>2016-10-04 07:59:42</td>\n",
       "      <td>Birmingham</td>\n",
       "      <td>420</td>\n",
       "    </tr>\n",
       "    <tr>\n",
       "      <th>2</th>\n",
       "      <td>BHMBCCSNH01</td>\n",
       "      <td>863</td>\n",
       "      <td>177</td>\n",
       "      <td>2016-10-04 07:59:42</td>\n",
       "      <td>Birmingham</td>\n",
       "      <td>686</td>\n",
       "    </tr>\n",
       "    <tr>\n",
       "      <th>3</th>\n",
       "      <td>Others-CCCPS98</td>\n",
       "      <td>3103</td>\n",
       "      <td>588</td>\n",
       "      <td>2016-10-04 07:59:42</td>\n",
       "      <td>Birmingham</td>\n",
       "      <td>2515</td>\n",
       "    </tr>\n",
       "    <tr>\n",
       "      <th>4</th>\n",
       "      <td>BHMBCCTHL01</td>\n",
       "      <td>387</td>\n",
       "      <td>120</td>\n",
       "      <td>2016-10-04 07:59:42</td>\n",
       "      <td>Birmingham</td>\n",
       "      <td>267</td>\n",
       "    </tr>\n",
       "  </tbody>\n",
       "</table>\n",
       "</div>"
      ],
      "text/plain": [
       "  SystemCodeNumber  Capacity  Occupancy         LastUpdated        city  \\\n",
       "0      BHMNCPPLS01       450         76 2016-10-04 07:46:28  Birmingham   \n",
       "1      BHMNCPNHS01       500         80 2016-10-04 07:59:42  Birmingham   \n",
       "2      BHMBCCSNH01       863        177 2016-10-04 07:59:42  Birmingham   \n",
       "3   Others-CCCPS98      3103        588 2016-10-04 07:59:42  Birmingham   \n",
       "4      BHMBCCTHL01       387        120 2016-10-04 07:59:42  Birmingham   \n",
       "\n",
       "   Availability  \n",
       "0           374  \n",
       "1           420  \n",
       "2           686  \n",
       "3          2515  \n",
       "4           267  "
      ]
     },
     "execution_count": 48,
     "metadata": {},
     "output_type": "execute_result"
    }
   ],
   "source": [
    "df_b.head()"
   ]
  },
  {
   "cell_type": "code",
   "execution_count": null,
   "id": "77d00bc9",
   "metadata": {},
   "outputs": [],
   "source": [
    "#Ordinamento del dataframe secondo LastUpdated ascendente\n",
    "\n",
    "df_b  = df_b.sort_values(by='LastUpdated', ascending=True).reset_index(drop=True)\n",
    "df_g  = df_g.sort_values(by='LastUpdated', ascending=True).reset_index(drop=True)\n",
    "df_nk = df_nk.sort_values(by='LastUpdated', ascending=True).reset_index(drop=True)\n",
    "df_nm = df_nm.sort_values(by='LastUpdated', ascending=True).reset_index(drop=True)"
   ]
  },
  {
   "cell_type": "code",
   "execution_count": 50,
   "id": "b9f0f6ea",
   "metadata": {},
   "outputs": [],
   "source": [
    "#Sarà utilizzato nella regressione\n",
    "df_parking = pd.concat([df_b, df_g, df_nk, df_nm])"
   ]
  },
  {
   "cell_type": "code",
   "execution_count": null,
   "id": "3a25c766",
   "metadata": {},
   "outputs": [],
   "source": [
    "#Conversione in csv\n",
    "\n",
    "df_parking.to_csv(f\"{input_folder}Parking.csv\")"
   ]
  },
  {
   "cell_type": "code",
   "execution_count": null,
   "id": "40da09ee",
   "metadata": {},
   "outputs": [],
   "source": [
    "#Crea una nuova colonna chiamata 'weekday' nel DataFrame\n",
    "\n",
    "df_b['weekday'] = df_b['LastUpdated'].dt.dayofweek\n",
    "df_g['weekday'] = df_g['LastUpdated'].dt.dayofweek\n",
    "df_nk['weekday'] = df_nk['LastUpdated'].dt.dayofweek\n",
    "df_nm['weekday'] = df_nm['LastUpdated'].dt.dayofweek"
   ]
  },
  {
   "cell_type": "code",
   "execution_count": null,
   "id": "a1a9bcfa",
   "metadata": {},
   "outputs": [],
   "source": [
    "weekday = {\n",
    "    0: \"lunedì\",\n",
    "    1: \"martedì\",\n",
    "    2: \"mercoledì\",\n",
    "    3: \"giovedì\",\n",
    "    4: \"venerdì\",\n",
    "    5: \"sabato\",\n",
    "    6: \"domenica\"\n",
    "}   \n",
    "\n",
    "#Nel DataFrame la colonna 'weekday' viene convertita da numero a stringa\n",
    "\n",
    "df_b['weekday'] = df_b['weekday'].map(weekday)\n",
    "df_g['weekday'] = df_g['weekday'].map(weekday)\n",
    "df_nk['weekday'] = df_nk['weekday'].map(weekday)\n",
    "df_nm['weekday'] = df_nm['weekday'].map(weekday)"
   ]
  },
  {
   "cell_type": "code",
   "execution_count": 54,
   "id": "5cdaffde",
   "metadata": {},
   "outputs": [
    {
     "data": {
      "text/html": [
       "<div>\n",
       "<style scoped>\n",
       "    .dataframe tbody tr th:only-of-type {\n",
       "        vertical-align: middle;\n",
       "    }\n",
       "\n",
       "    .dataframe tbody tr th {\n",
       "        vertical-align: top;\n",
       "    }\n",
       "\n",
       "    .dataframe thead th {\n",
       "        text-align: right;\n",
       "    }\n",
       "</style>\n",
       "<table border=\"1\" class=\"dataframe\">\n",
       "  <thead>\n",
       "    <tr style=\"text-align: right;\">\n",
       "      <th></th>\n",
       "      <th>SystemCodeNumber</th>\n",
       "      <th>Capacity</th>\n",
       "      <th>Occupancy</th>\n",
       "      <th>LastUpdated</th>\n",
       "      <th>city</th>\n",
       "      <th>Availability</th>\n",
       "      <th>weekday</th>\n",
       "    </tr>\n",
       "  </thead>\n",
       "  <tbody>\n",
       "    <tr>\n",
       "      <th>0</th>\n",
       "      <td>BHMNCPPLS01</td>\n",
       "      <td>450</td>\n",
       "      <td>76</td>\n",
       "      <td>2016-10-04 07:46:28</td>\n",
       "      <td>Birmingham</td>\n",
       "      <td>374</td>\n",
       "      <td>martedì</td>\n",
       "    </tr>\n",
       "    <tr>\n",
       "      <th>1</th>\n",
       "      <td>Others-CCCPS119a</td>\n",
       "      <td>2803</td>\n",
       "      <td>195</td>\n",
       "      <td>2016-10-04 07:59:42</td>\n",
       "      <td>Birmingham</td>\n",
       "      <td>2608</td>\n",
       "      <td>martedì</td>\n",
       "    </tr>\n",
       "    <tr>\n",
       "      <th>2</th>\n",
       "      <td>Others-CCCPS133</td>\n",
       "      <td>4675</td>\n",
       "      <td>804</td>\n",
       "      <td>2016-10-04 07:59:42</td>\n",
       "      <td>Birmingham</td>\n",
       "      <td>3871</td>\n",
       "      <td>martedì</td>\n",
       "    </tr>\n",
       "    <tr>\n",
       "      <th>3</th>\n",
       "      <td>Others-CCCPS8</td>\n",
       "      <td>1322</td>\n",
       "      <td>445</td>\n",
       "      <td>2016-10-04 07:59:42</td>\n",
       "      <td>Birmingham</td>\n",
       "      <td>877</td>\n",
       "      <td>martedì</td>\n",
       "    </tr>\n",
       "    <tr>\n",
       "      <th>4</th>\n",
       "      <td>BHMBCCPST01</td>\n",
       "      <td>317</td>\n",
       "      <td>93</td>\n",
       "      <td>2016-10-04 07:59:42</td>\n",
       "      <td>Birmingham</td>\n",
       "      <td>224</td>\n",
       "      <td>martedì</td>\n",
       "    </tr>\n",
       "    <tr>\n",
       "      <th>...</th>\n",
       "      <td>...</td>\n",
       "      <td>...</td>\n",
       "      <td>...</td>\n",
       "      <td>...</td>\n",
       "      <td>...</td>\n",
       "      <td>...</td>\n",
       "      <td>...</td>\n",
       "    </tr>\n",
       "    <tr>\n",
       "      <th>101156</th>\n",
       "      <td>Others-CCCPS8</td>\n",
       "      <td>1322</td>\n",
       "      <td>602</td>\n",
       "      <td>2017-04-28 14:54:55</td>\n",
       "      <td>Birmingham</td>\n",
       "      <td>720</td>\n",
       "      <td>venerdì</td>\n",
       "    </tr>\n",
       "    <tr>\n",
       "      <th>101157</th>\n",
       "      <td>Bull Ring</td>\n",
       "      <td>3049</td>\n",
       "      <td>1443</td>\n",
       "      <td>2017-04-28 14:54:55</td>\n",
       "      <td>Birmingham</td>\n",
       "      <td>1606</td>\n",
       "      <td>venerdì</td>\n",
       "    </tr>\n",
       "    <tr>\n",
       "      <th>101158</th>\n",
       "      <td>Others-CCCPS135a</td>\n",
       "      <td>3883</td>\n",
       "      <td>2697</td>\n",
       "      <td>2017-04-28 14:54:55</td>\n",
       "      <td>Birmingham</td>\n",
       "      <td>1186</td>\n",
       "      <td>venerdì</td>\n",
       "    </tr>\n",
       "    <tr>\n",
       "      <th>101159</th>\n",
       "      <td>BHMAPCARC01</td>\n",
       "      <td>549</td>\n",
       "      <td>311</td>\n",
       "      <td>2017-04-28 14:54:55</td>\n",
       "      <td>Birmingham</td>\n",
       "      <td>238</td>\n",
       "      <td>venerdì</td>\n",
       "    </tr>\n",
       "    <tr>\n",
       "      <th>101160</th>\n",
       "      <td>Others-CCCPS202</td>\n",
       "      <td>2937</td>\n",
       "      <td>969</td>\n",
       "      <td>2017-04-28 14:54:55</td>\n",
       "      <td>Birmingham</td>\n",
       "      <td>1968</td>\n",
       "      <td>venerdì</td>\n",
       "    </tr>\n",
       "  </tbody>\n",
       "</table>\n",
       "<p>101161 rows × 7 columns</p>\n",
       "</div>"
      ],
      "text/plain": [
       "        SystemCodeNumber  Capacity  Occupancy         LastUpdated        city  \\\n",
       "0            BHMNCPPLS01       450         76 2016-10-04 07:46:28  Birmingham   \n",
       "1       Others-CCCPS119a      2803        195 2016-10-04 07:59:42  Birmingham   \n",
       "2        Others-CCCPS133      4675        804 2016-10-04 07:59:42  Birmingham   \n",
       "3          Others-CCCPS8      1322        445 2016-10-04 07:59:42  Birmingham   \n",
       "4            BHMBCCPST01       317         93 2016-10-04 07:59:42  Birmingham   \n",
       "...                  ...       ...        ...                 ...         ...   \n",
       "101156     Others-CCCPS8      1322        602 2017-04-28 14:54:55  Birmingham   \n",
       "101157         Bull Ring      3049       1443 2017-04-28 14:54:55  Birmingham   \n",
       "101158  Others-CCCPS135a      3883       2697 2017-04-28 14:54:55  Birmingham   \n",
       "101159       BHMAPCARC01       549        311 2017-04-28 14:54:55  Birmingham   \n",
       "101160   Others-CCCPS202      2937        969 2017-04-28 14:54:55  Birmingham   \n",
       "\n",
       "        Availability  weekday  \n",
       "0                374  martedì  \n",
       "1               2608  martedì  \n",
       "2               3871  martedì  \n",
       "3                877  martedì  \n",
       "4                224  martedì  \n",
       "...              ...      ...  \n",
       "101156           720  venerdì  \n",
       "101157          1606  venerdì  \n",
       "101158          1186  venerdì  \n",
       "101159           238  venerdì  \n",
       "101160          1968  venerdì  \n",
       "\n",
       "[101161 rows x 7 columns]"
      ]
     },
     "execution_count": 54,
     "metadata": {},
     "output_type": "execute_result"
    }
   ],
   "source": [
    "df_b"
   ]
  },
  {
   "cell_type": "code",
   "execution_count": null,
   "id": "65c7c0cf",
   "metadata": {},
   "outputs": [],
   "source": [
    "#Salva il DataFrame in un file CSV nella cartella specificata dalla variabile input_folder.\n",
    "\n",
    "df_b.to_csv(f\"{input_folder}Birmingham.csv\") \n",
    "df_g.to_csv(f\"{input_folder}Glasgow.csv\")\n",
    "df_nk.to_csv(f\"{input_folder}Norfolk.csv\")\n",
    "df_nm.to_csv(f\"{input_folder}Nottingham.csv\")"
   ]
  }
 ],
 "metadata": {
  "kernelspec": {
   "display_name": "Python 3",
   "language": "python",
   "name": "python3"
  },
  "language_info": {
   "codemirror_mode": {
    "name": "ipython",
    "version": 3
   },
   "file_extension": ".py",
   "mimetype": "text/x-python",
   "name": "python",
   "nbconvert_exporter": "python",
   "pygments_lexer": "ipython3",
   "version": "3.11.5"
  }
 },
 "nbformat": 4,
 "nbformat_minor": 5
}
